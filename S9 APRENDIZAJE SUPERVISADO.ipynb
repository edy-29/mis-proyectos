{
 "cells": [
  {
   "cell_type": "markdown",
   "metadata": {},
   "source": [
    "## Añadir descripcion de proyecto ##"
   ]
  },
  {
   "cell_type": "code",
   "execution_count": 1,
   "metadata": {},
   "outputs": [],
   "source": [
    "import pandas as pd\n",
    "from sklearn.linear_model import LinearRegression\n",
    "from sklearn.linear_model import LogisticRegression\n",
    "from sklearn.ensemble import RandomForestClassifier\n",
    "from sklearn.tree import DecisionTreeClassifier\n",
    "from sklearn.model_selection import train_test_split\n",
    "from sklearn.metrics import mean_squared_error\n",
    "from sklearn.metrics import accuracy_score\n",
    "from sklearn.dummy import DummyClassifier"
   ]
  },
  {
   "cell_type": "code",
   "execution_count": 2,
   "metadata": {},
   "outputs": [
    {
     "data": {
      "text/html": [
       "<div>\n",
       "<style scoped>\n",
       "    .dataframe tbody tr th:only-of-type {\n",
       "        vertical-align: middle;\n",
       "    }\n",
       "\n",
       "    .dataframe tbody tr th {\n",
       "        vertical-align: top;\n",
       "    }\n",
       "\n",
       "    .dataframe thead th {\n",
       "        text-align: right;\n",
       "    }\n",
       "</style>\n",
       "<table border=\"1\" class=\"dataframe\">\n",
       "  <thead>\n",
       "    <tr style=\"text-align: right;\">\n",
       "      <th></th>\n",
       "      <th>calls</th>\n",
       "      <th>minutes</th>\n",
       "      <th>messages</th>\n",
       "      <th>mb_used</th>\n",
       "      <th>is_ultra</th>\n",
       "    </tr>\n",
       "  </thead>\n",
       "  <tbody>\n",
       "    <tr>\n",
       "      <th>0</th>\n",
       "      <td>40.0</td>\n",
       "      <td>311.90</td>\n",
       "      <td>83.0</td>\n",
       "      <td>19915.42</td>\n",
       "      <td>0</td>\n",
       "    </tr>\n",
       "    <tr>\n",
       "      <th>1</th>\n",
       "      <td>85.0</td>\n",
       "      <td>516.75</td>\n",
       "      <td>56.0</td>\n",
       "      <td>22696.96</td>\n",
       "      <td>0</td>\n",
       "    </tr>\n",
       "    <tr>\n",
       "      <th>2</th>\n",
       "      <td>77.0</td>\n",
       "      <td>467.66</td>\n",
       "      <td>86.0</td>\n",
       "      <td>21060.45</td>\n",
       "      <td>0</td>\n",
       "    </tr>\n",
       "    <tr>\n",
       "      <th>3</th>\n",
       "      <td>106.0</td>\n",
       "      <td>745.53</td>\n",
       "      <td>81.0</td>\n",
       "      <td>8437.39</td>\n",
       "      <td>1</td>\n",
       "    </tr>\n",
       "    <tr>\n",
       "      <th>4</th>\n",
       "      <td>66.0</td>\n",
       "      <td>418.74</td>\n",
       "      <td>1.0</td>\n",
       "      <td>14502.75</td>\n",
       "      <td>0</td>\n",
       "    </tr>\n",
       "  </tbody>\n",
       "</table>\n",
       "</div>"
      ],
      "text/plain": [
       "   calls  minutes  messages   mb_used  is_ultra\n",
       "0   40.0   311.90      83.0  19915.42         0\n",
       "1   85.0   516.75      56.0  22696.96         0\n",
       "2   77.0   467.66      86.0  21060.45         0\n",
       "3  106.0   745.53      81.0   8437.39         1\n",
       "4   66.0   418.74       1.0  14502.75         0"
      ]
     },
     "execution_count": 2,
     "metadata": {},
     "output_type": "execute_result"
    }
   ],
   "source": [
    "df = pd.read_csv('/datasets/users_behavior.csv')\n",
    "df.head()"
   ]
  },
  {
   "cell_type": "code",
   "execution_count": 3,
   "metadata": {},
   "outputs": [
    {
     "name": "stdout",
     "output_type": "stream",
     "text": [
      "<class 'pandas.core.frame.DataFrame'>\n",
      "RangeIndex: 3214 entries, 0 to 3213\n",
      "Data columns (total 5 columns):\n",
      " #   Column    Non-Null Count  Dtype  \n",
      "---  ------    --------------  -----  \n",
      " 0   calls     3214 non-null   float64\n",
      " 1   minutes   3214 non-null   float64\n",
      " 2   messages  3214 non-null   float64\n",
      " 3   mb_used   3214 non-null   float64\n",
      " 4   is_ultra  3214 non-null   int64  \n",
      "dtypes: float64(4), int64(1)\n",
      "memory usage: 125.7 KB\n"
     ]
    }
   ],
   "source": [
    "df.info()"
   ]
  },
  {
   "cell_type": "code",
   "execution_count": 4,
   "metadata": {},
   "outputs": [
    {
     "data": {
      "text/plain": [
       "(3214, 5)"
      ]
     },
     "execution_count": 4,
     "metadata": {},
     "output_type": "execute_result"
    }
   ],
   "source": [
    "df.shape"
   ]
  },
  {
   "cell_type": "code",
   "execution_count": 5,
   "metadata": {},
   "outputs": [
    {
     "data": {
      "text/html": [
       "<div>\n",
       "<style scoped>\n",
       "    .dataframe tbody tr th:only-of-type {\n",
       "        vertical-align: middle;\n",
       "    }\n",
       "\n",
       "    .dataframe tbody tr th {\n",
       "        vertical-align: top;\n",
       "    }\n",
       "\n",
       "    .dataframe thead th {\n",
       "        text-align: right;\n",
       "    }\n",
       "</style>\n",
       "<table border=\"1\" class=\"dataframe\">\n",
       "  <thead>\n",
       "    <tr style=\"text-align: right;\">\n",
       "      <th></th>\n",
       "      <th>calls</th>\n",
       "      <th>minutes</th>\n",
       "      <th>messages</th>\n",
       "      <th>mb_used</th>\n",
       "      <th>is_ultra</th>\n",
       "    </tr>\n",
       "  </thead>\n",
       "  <tbody>\n",
       "    <tr>\n",
       "      <th>0</th>\n",
       "      <td>40</td>\n",
       "      <td>311.90</td>\n",
       "      <td>83</td>\n",
       "      <td>19915.42</td>\n",
       "      <td>0</td>\n",
       "    </tr>\n",
       "    <tr>\n",
       "      <th>1</th>\n",
       "      <td>85</td>\n",
       "      <td>516.75</td>\n",
       "      <td>56</td>\n",
       "      <td>22696.96</td>\n",
       "      <td>0</td>\n",
       "    </tr>\n",
       "    <tr>\n",
       "      <th>2</th>\n",
       "      <td>77</td>\n",
       "      <td>467.66</td>\n",
       "      <td>86</td>\n",
       "      <td>21060.45</td>\n",
       "      <td>0</td>\n",
       "    </tr>\n",
       "    <tr>\n",
       "      <th>3</th>\n",
       "      <td>106</td>\n",
       "      <td>745.53</td>\n",
       "      <td>81</td>\n",
       "      <td>8437.39</td>\n",
       "      <td>1</td>\n",
       "    </tr>\n",
       "    <tr>\n",
       "      <th>4</th>\n",
       "      <td>66</td>\n",
       "      <td>418.74</td>\n",
       "      <td>1</td>\n",
       "      <td>14502.75</td>\n",
       "      <td>0</td>\n",
       "    </tr>\n",
       "  </tbody>\n",
       "</table>\n",
       "</div>"
      ],
      "text/plain": [
       "   calls  minutes  messages   mb_used  is_ultra\n",
       "0     40   311.90        83  19915.42         0\n",
       "1     85   516.75        56  22696.96         0\n",
       "2     77   467.66        86  21060.45         0\n",
       "3    106   745.53        81   8437.39         1\n",
       "4     66   418.74         1  14502.75         0"
      ]
     },
     "execution_count": 5,
     "metadata": {},
     "output_type": "execute_result"
    }
   ],
   "source": [
    "df[['calls','messages']] = df[['calls','messages']].astype('int')\n",
    "df.head()"
   ]
  },
  {
   "cell_type": "markdown",
   "metadata": {},
   "source": [
    "Dado que los datos se identificaron de inmediato como los valores previamente procesados, se identificaron considerando el tipo de usuario y cual es el que usa cada tipo de plan (Smart y Ultra), es por ello, que se decidio utilizar la columna *'is_ultra'* que contiene valores booleanos y que estan previamente clasificados,  con la cual podemos trabajar con modelos de clasificación, a continuación se emplean"
   ]
  },
  {
   "cell_type": "markdown",
   "metadata": {},
   "source": [
    "**RandomForestClassifier**"
   ]
  },
  {
   "cell_type": "code",
   "execution_count": 21,
   "metadata": {},
   "outputs": [
    {
     "name": "stdout",
     "output_type": "stream",
     "text": [
      "Exactitud del Bosque Aleatorio (Validación): 0.8258\n",
      "Exactitud del Bosque Aleatorio (Prueba): 0.7854\n"
     ]
    }
   ],
   "source": [
    "features = df.drop(['is_ultra'], axis=1)\n",
    "target = df['is_ultra']\n",
    "\n",
    "#Dividir el dataset original en conjuntos de entrenamiento-validacion y prueba, en el mismo se considera el 20% en tamaño de prueba\n",
    "features_train_val, features_test, target_train_val, target_test = train_test_split(features, target, test_size=0.20, random_state=54321)\n",
    "\n",
    "#Despues, dividimos el conjunto construido en la primera linea, entrenamiento y validacion\n",
    "# Para este caso se tiene el 80% del original, y queremos que la validación sea el 25% de eso lo que corresponde a (0.25 * 0.80 = 0.20 del total)\n",
    "\n",
    "features_train, features_valid, target_train, target_valid = train_test_split(features_train_val, target_train_val, test_size=0.25, random_state=54321)\n",
    "\n",
    "# Entrenamos el modelo\n",
    "model = RandomForestClassifier(random_state=54321, n_estimators=50, max_depth=20)\n",
    "model.fit(features_train, target_train) # entrena el modelo en el conjunto de entrenamiento\n",
    "\n",
    "# Calculamos la puntuación de accuracy en el conjunto de validación\n",
    "score_valid = model.score(features_valid, target_valid)\n",
    "print(f'Exactitud del Bosque Aleatorio (Validación): {score_valid:.4f}')\n",
    "\n",
    "# Calcular la puntuación de accuracy en el conjunto de PRUEBA\n",
    "# Este es el paso final de evaluación, el modelo NO ha visto estos datos en entrenamiento ni validación\n",
    "test_predictions = model.predict(features_test)\n",
    "score_test = accuracy_score(target_test, test_predictions)\n",
    "print(f'Exactitud del Bosque Aleatorio (Prueba): {score_test:.4f}')"
   ]
  },
  {
   "cell_type": "markdown",
   "metadata": {},
   "source": [
    "**Prueba de cordura, Clasificador Dummy** <br>\n",
    "Aplicada al modelo RandomForest, considerado como el mejor modelo con base en los resultados obtenidos<br>\n",
    "(Esta es la estrategia más común para una prueba de cordura en clasificación.)<br>\n",
    "\n",
    "Un clasificador ficticio es un modelo simple de aprendizaje automático que realiza predicciones mediante reglas básicas, sin aprender realmente de los datos de entrada.<br> \n",
    "Sirve como referencia para comparar el rendimiento de modelos más complejos.<br> \n",
    "El clasificador ficticio nos ayuda a comprender si nuestros modelos sofisticados realmente están aprendiendo patrones útiles o simplemente adivinando.<br>\n",
    "El DummyClassifier aprenderá cuál es la clase más común en el conjunto de entrenamiento y luego predecirá esa clase para todos los ejemplos, sin importar las características."
   ]
  },
  {
   "cell_type": "code",
   "execution_count": 26,
   "metadata": {},
   "outputs": [
    {
     "name": "stdout",
     "output_type": "stream",
     "text": [
      "El nivel de precision aplicando la prueba de cordura DummyClassifier para el modelo RandomForest es de: 0.6641\n"
     ]
    }
   ],
   "source": [
    "strategy= 'most_frequent' #hará que siempre prediga la clase que aparece más a menudo en el conjunto de entrenamiento.\n",
    "dummy_model = DummyClassifier(strategy='most_frequent', random_state=54321)\n",
    "\n",
    "# Entrenar el clasificador dummy (solo para que aprenda cuál es la clase más frecuente)\n",
    "dummy_model.fit(features_train, target_train)\n",
    "\n",
    "# Hacer predicciones con el clasificador dummy en el conjunto de prueba\n",
    "dummy_predictions = dummy_model.predict(features_test)\n",
    "\n",
    "# Calcular la precisión del clasificador dummy en el conjunto de prueba\n",
    "dummy_score = accuracy_score(target_test, dummy_predictions)\n",
    "\n",
    "print(f'El nivel de precision aplicando la prueba de cordura DummyClassifier para el modelo RandomForest es de: {dummy_score:.4f}')\n",
    "#print(\"\\n Resultados de la Prueba de Cordura (Dummy Classifier)\")\n",
    "#print(f'Exactitud del Clasificador Dummy (Prueba):', dummy_score)\n",
    "\n",
    "# Conclusión de la prueba de cordura\n",
    "#if score_test > dummy_score:\n",
    " #   print(\"\\nEl modelo de RandomForest es MEJOR que el clasificador dummy\")\n",
    "  #  print(\"Esto es una buena señal: el modelo está aprendiendo algo significativo.\")\n",
    "#else:\n",
    " #   print(\"\\n¡ALERTA! El modelo RainForest NO es mejor que el clasificador dummy.\")\n",
    "  #  print(\"Revisa tus datos, tu preprocesamiento o la configuración de tu modelo.\")"
   ]
  },
  {
   "cell_type": "markdown",
   "metadata": {},
   "source": [
    "**DecisionTreeClassifier**"
   ]
  },
  {
   "cell_type": "code",
   "execution_count": 24,
   "metadata": {},
   "outputs": [
    {
     "name": "stdout",
     "output_type": "stream",
     "text": [
      "Precision del Arbol de Decision (Validacion): 0.8118\n",
      "Precision del Arbol de Decision (Prueba): 0.7854\n"
     ]
    }
   ],
   "source": [
    "features = df.drop(['is_ultra'],axis=1)\n",
    "target = df['is_ultra']\n",
    "\n",
    "#Dividimos en conjuntos\n",
    "features_train_val, features_test_dt, target_train_val, target_test_dt = train_test_split(features, target, random_state=54321,test_size=0.20)\n",
    "features_train, features_valid, target_train, target_valid = train_test_split(features_train_val, target_train_val, random_state=54321,test_size=0.25)\n",
    "\n",
    "#Entrenamos el modelo\n",
    "model_dtree = DecisionTreeClassifier(random_state = 12345, max_depth =8)\n",
    "model_dtree.fit(features_train, target_train)\n",
    "\n",
    "#Calculamos la exactitud en el conjunto de validacion\n",
    "dtree_score_valid = model_dtree.score(features_valid, target_valid)\n",
    "print(f'Precision del Arbol de Decision (Validacion): {dtree_score_valid:.4f}')\n",
    "\n",
    "#Calculamos la exactitud en el modelo de prueba\n",
    "dtree_predictions = model_dtree.predict(features_test_dt)\n",
    "dtree_score = accuracy_score(target_test_dt, test_predictions)\n",
    "print(f'Precision del Arbol de Decision (Prueba): {dtree_score:.4f}')"
   ]
  },
  {
   "cell_type": "markdown",
   "metadata": {},
   "source": [
    "**LogisticRegression**"
   ]
  },
  {
   "cell_type": "code",
   "execution_count": 25,
   "metadata": {},
   "outputs": [
    {
     "name": "stdout",
     "output_type": "stream",
     "text": [
      "Precision de la Regresion Logistica (Prueba): 0.7173\n",
      "Precision de la Regresion Logistica (Validacion): 0.7325\n"
     ]
    }
   ],
   "source": [
    "features = df.drop(['is_ultra'],axis=1)\n",
    "target = df['is_ultra']\n",
    "\n",
    "#Dividimos en conjuntos\n",
    "features_train_val, features_test, target_train_val, target_test = train_test_split(features, target, random_state=54321,test_size=0.20)\n",
    "features_train, features_valid, target_train, target_valid = train_test_split(features_train_val, target_train_val, random_state=54321,test_size=0.25)\n",
    "\n",
    "model_lr = LogisticRegression(random_state = 54321, solver='liblinear')# inicializa el constructor de regresión logística con los parámetros random_state=54321 y solver='liblinear'\n",
    "model_lr.fit(features_train, target_train) # entrena el modelo en el conjunto de entrenamiento\n",
    "score_train = model_lr.score(features_train, target_train) # calcula la puntuación de accuracy en el conjunto de entrenamiento\n",
    "score_valid = model_lr.score(features_valid, target_valid) # calcula la puntuación de accuracy en el conjunto de validación\n",
    "\n",
    "print(f'Precision de la Regresion Logistica (Prueba): {score_train:.4f}')\n",
    "print(f'Precision de la Regresion Logistica (Validacion): {score_valid:.4f}')"
   ]
  },
  {
   "cell_type": "markdown",
   "metadata": {},
   "source": [
    "**Resultados**<br>\n",
    "El modelo que muestra un mayor porcentaje de exactitud es el de RandomForestClassifier, mostrando un 82% de precision en el modelo de Validacion y 78% en el modelo de prueba, cabe mencionar que se probaron diferentes estimadores y profundidades, mismos que indicaron el mas alto como se menciona.\n",
    "A este mismo modelo, se le aplico la prueba de cordura  (Dummy Classifier), misma que arrojo una precision del 66%\n",
    "\n",
    "El modelo DecissionTreeClassifier mostro un porcentaje de precision de 81% en el modelo de validacion y 78% en de prueba, por debajo de RandomForest, de igual forma se utilizaron diferentes profundidades antes de conocer el valor mas alto.<br>\n",
    "\n",
    "Por ultimo el modelo de LogisticRegression, fue el mas bajo, con un nivel de precision en el conjunto de validacion con un 71% y en el conjunto de entrenamiento de 73%."
   ]
  },
  {
   "cell_type": "code",
   "execution_count": null,
   "metadata": {},
   "outputs": [],
   "source": []
  }
 ],
 "metadata": {
  "kernelspec": {
   "display_name": "Python 3 (ipykernel)",
   "language": "python",
   "name": "python3"
  },
  "language_info": {
   "codemirror_mode": {
    "name": "ipython",
    "version": 3
   },
   "file_extension": ".py",
   "mimetype": "text/x-python",
   "name": "python",
   "nbconvert_exporter": "python",
   "pygments_lexer": "ipython3",
   "version": "3.12.4"
  }
 },
 "nbformat": 4,
 "nbformat_minor": 4
}
